{
 "cells": [
  {
   "cell_type": "code",
   "execution_count": 1,
   "metadata": {},
   "outputs": [],
   "source": [
    "import math\n",
    "import os\n",
    "import torch\n",
    "import numpy as np\n",
    "import matplotlib.pyplot as plt\n",
    "import random\n",
    "from functools import partial\n",
    "from tqdm import tqdm"
   ]
  },
  {
   "cell_type": "code",
   "execution_count": 2,
   "metadata": {},
   "outputs": [],
   "source": [
    "def data_points(data):\n",
    "    '''\n",
    "    Wrapper for data points\n",
    "    \n",
    "    '''\n",
    "    def middle(func):\n",
    "    \n",
    "        def wrapper(*args, **kwargs):\n",
    "            return func(data, *args, **kwargs)\n",
    "        return wrapper\n",
    "    \n",
    "    return middle"
   ]
  },
  {
   "cell_type": "code",
   "execution_count": 3,
   "metadata": {},
   "outputs": [],
   "source": [
    "def f(t, p):\n",
    "    return  p[0] * torch.exp(-t / p[1]) + p[2] * t * torch.exp(-t / p[3])"
   ]
  },
  {
   "cell_type": "code",
   "execution_count": 4,
   "metadata": {},
   "outputs": [],
   "source": [
    "class LevenbergMarquad:\n",
    "        \n",
    "    def condition1(self):\n",
    "        '''\n",
    "        Add condition for Broyden 1-rank method convergence\n",
    "        \n",
    "        '''\n",
    "        pass\n",
    "\n",
    "    def __init__(self, kwargs):\n",
    "        self.y_data = kwargs.get('y') # 1-d tensor\n",
    "        self.x_data = kwargs.get('x') # 1-d tensor\n",
    "        self.func = kwargs.get('func')\n",
    "        \n",
    "        ###################################\n",
    "        \n",
    "        self.iter_n = 0\n",
    "        self.p =  kwargs.get('init_p').detach().clone()\n",
    "        self.p.requires_grad_(True)\n",
    "        with torch.no_grad():\n",
    "            self.J = torch.autograd.functional.jacobian(self.func, self.p)\n",
    "        self.W = torch.diag(torch.tensor([1/kwargs.get('sigma')**2]*len(self.x_data))) # 1-d tensor\n",
    "        self.lambda_lm = torch.tensor(kwargs.get('lambda_lm')) # float tensor\n",
    "        \n",
    "        ###################################\n",
    "        \n",
    "        self.eps1 = torch.tensor(kwargs.get('eps1')) # float tensor\n",
    "        self.eps2 = torch.tensor(kwargs.get('eps2')) # float tensor\n",
    "        self.eps3 = torch.tensor(kwargs.get('eps3')) # float tensor\n",
    "        self.eps4 = torch.tensor(kwargs.get('eps4')) # float tensor\n",
    "        self.lm_up = torch.tensor(kwargs.get('lm_up'))  # float tensor\n",
    "        self.lm_down = torch.tensor(kwargs.get('lm_down'))  # float tensor\n",
    "         \n",
    "    @torch.no_grad()\n",
    "    def broyden_jacobian_update(self):\n",
    "        '''\n",
    "        Broyden 1-rank Jacobian update\n",
    "        \n",
    "        '''\n",
    "        df = self.func(self.p + self.dp) - self.func(self.p)\n",
    "        self.J += torch.outer(df - torch.mv(self.J, self.dp),\n",
    "                                self.dp) \\\n",
    "                         .div(torch.linalg.norm(self.dp, ord=2))\n",
    "    @torch.no_grad()    \n",
    "    def torch_jacobian_update(self, p):\n",
    "        '''\n",
    "        Finite-difference Jacobian update\n",
    "        \n",
    "        '''\n",
    "        self.J = torch.autograd.functional.jacobian(self.func, p)\n",
    "            \n",
    "    @torch.no_grad()        \n",
    "    def solve_for_dp(self):\n",
    "        '''\n",
    "        Solver for optimizer step\n",
    "        \n",
    "        '''\n",
    "        self.JTW = torch.matmul(torch.transpose(self.J, 0, 1), self.W)\n",
    "        self.JTWJ =  torch.matmul(self.JTW, self.J)\n",
    "        \n",
    "        dy =  self.y_data - self.func(self.p)\n",
    "        self.dp = torch.linalg.solve(self.JTWJ \n",
    "                                     + self.lambda_lm * torch.diag(torch.diagonal(self.JTWJ)), \n",
    "                                    torch.mv(self.JTW , dy))\n",
    "        \n",
    "    @torch.no_grad()    \n",
    "    def chi_2(self, p):\n",
    "        '''\n",
    "        \n",
    "        chi2 = y^T.W.y + 2 * y^T.W . y_hat +  (y-hat)^T.W.y_hat\n",
    "        \n",
    "        '''\n",
    "        y_hat = self.func(p)\n",
    "        \n",
    "        return torch.dot(self.y_data, torch.mv(self.W, self.y_data)) \\\n",
    "                - 2*torch.dot(self.y_data,\n",
    "                              torch.mv(self.W, y_hat)) \\\n",
    "                + torch.dot(y_hat,\n",
    "                            torch.mv(self.W,\n",
    "                                     y_hat))\n",
    "    \n",
    "    @torch.no_grad()\n",
    "    def rho(self):\n",
    "        '''\n",
    "        rho =  chi2(p) - chi2(p + dp) / (dp)^T . ( lambda * diag(J^T W J).dp + J^T W . dy )\n",
    "        \n",
    "        '''\n",
    "        \n",
    "        \n",
    "        dy = self.y_data - self.func(self.p)  \n",
    "        rho = ((self.chi_2(self.p) - self.chi_2(self.p + self.dp)) \\\n",
    "                .div(torch.dot(self.dp,  torch.mv(self.lambda_lm * torch.diag(torch.diagonal(self.JTWJ)), self.dp) \\\n",
    "                                         + torch.mv(self.JTW , dy) \n",
    "                              ) \n",
    "                    ) \n",
    "              )\n",
    "            \n",
    "        \n",
    "        if rho > self.eps4:\n",
    "            return True\n",
    "        else:\n",
    "            return False\n",
    "        \n",
    "    @torch.no_grad()\n",
    "    def update_p(self, dp):\n",
    "        self.p = self.p + self.dp\n",
    "        \n",
    "    def step(self, closure=None):\n",
    "        \n",
    "        self.dp = 0\n",
    "       \n",
    "        self.solve_for_dp()\n",
    "        \n",
    "        if self.rho():\n",
    "            self.update_p(self.dp)\n",
    "            self.lambda_lm = torch.maximum( self.lambda_lm / self.lm_down, torch.tensor(1e-7))\n",
    "        else:\n",
    "            self.lambda_lm = torch.minimum( self.lambda_lm * self.lm_up, torch.tensor(1e7))\n",
    "            \n",
    "        \n",
    "        \n",
    "        \n",
    "        if self.iter_n % (2 * len(self.p)) == 0 :\n",
    "            self.broyden_jacobian_update()\n",
    "        else:\n",
    "            \n",
    "            self.p.requires_grad_(True)\n",
    "            self.torch_jacobian_update(self.p)\n",
    "            \n",
    "        \n",
    "        \n",
    "        self.iter_n += 1\n",
    "        \n",
    "        \n",
    "        return self.p\n"
   ]
  },
  {
   "cell_type": "code",
   "execution_count": 5,
   "metadata": {},
   "outputs": [],
   "source": [
    "true_p = torch.tensor([20.0, 10.0, 1.0, 50.0]) # True parameteres\n",
    "x_true = torch.linspace(0, 100, 25) # span of of free parameter\n",
    "y_true = f(x_true, true_p) # fitted function observed values\n",
    "init_p = true_p + torch.randn(4)*2**2 + 4 # initial guess for parametes = true + noise\n",
    "####\n",
    "modified_f = data_points(x_true)(f) # wrapped function (dependent on only parameters)\n",
    "\n"
   ]
  },
  {
   "cell_type": "code",
   "execution_count": 6,
   "metadata": {},
   "outputs": [
    {
     "name": "stdout",
     "output_type": "stream",
     "text": [
      "Initial guess for optimizer tensor([31.3238, 11.3112,  2.1028, 53.9448])\n"
     ]
    }
   ],
   "source": [
    "print(f\"Initial guess for optimizer {init_p}\")"
   ]
  },
  {
   "cell_type": "code",
   "execution_count": 7,
   "metadata": {},
   "outputs": [
    {
     "data": {
      "image/png": "[encoded data removed]",
      "text/plain": [
       "<Figure size 432x288 with 1 Axes>"
      ]
     },
     "metadata": {
      "needs_background": "light"
     },
     "output_type": "display_data"
    }
   ],
   "source": [
    "plt.scatter(x_true, y_true.numpy(), color='red')\n",
    "plt.plot(x_true.numpy(), y_true.numpy())\n",
    "plt.plot(x_true.numpy(), modified_f(init_p).numpy())\n",
    "plt.show()"
   ]
  },
  {
   "cell_type": "code",
   "execution_count": 8,
   "metadata": {},
   "outputs": [],
   "source": [
    "params = { 'x' : x_true,\n",
    "           'init_p': init_p,\n",
    "           'y' : y_true,\n",
    "           'func' : modified_f,  # model to be fitted\n",
    "           'sigma' : 4.0,    # std of datapoint\n",
    "           'lambda_lm' : 10, # starting lambda\n",
    "           'eps1' : 1e-3,    \n",
    "           'eps2' : 1e-3,\n",
    "           'eps3' : 1e-3,\n",
    "           'eps4' : 1e-3,\n",
    "           'lm_up' : 11,     # up coefficient\n",
    "           'lm_down' : 9     # down coefficient\n",
    "           }"
   ]
  },
  {
   "cell_type": "code",
   "execution_count": 9,
   "metadata": {},
   "outputs": [],
   "source": [
    "lm = LevenbergMarquad(params)"
   ]
  },
  {
   "cell_type": "code",
   "execution_count": 10,
   "metadata": {},
   "outputs": [],
   "source": [
    "p_hat = []\n",
    "p = []\n",
    "lmbd = []\n",
    "for i in range(10):\n",
    "    p.append(float(torch.linalg.norm(lm.step(), ord=2)))\n",
    "    p_hat.append(float(torch.linalg.norm(lm.p - true_p , ord=2)))\n",
    "    lmbd.append(lm.lambda_lm)"
   ]
  },
  {
   "cell_type": "code",
   "execution_count": 11,
   "metadata": {},
   "outputs": [
    {
     "data": {
      "image/png": "[encoded data removed]",
      "text/plain": [
       "<Figure size 432x288 with 1 Axes>"
      ]
     },
     "metadata": {
      "needs_background": "light"
     },
     "output_type": "display_data"
    }
   ],
   "source": [
    "plt.scatter(x_true, y_true.numpy(), color='red')\n",
    "plt.plot(x_true.numpy(), y_true.numpy())\n",
    "#plt.plot(x_true.numpy(), modified_f(init_p).numpy())\n",
    "plt.plot(x_true.numpy(), modified_f(lm.p).detach().numpy())\n",
    "plt.show()"
   ]
  },
  {
   "cell_type": "markdown",
   "metadata": {},
   "source": [
    "# SABR parameter estimation"
   ]
  },
  {
   "cell_type": "markdown",
   "metadata": {},
   "source": [
    "$$\n",
    "\\begin{aligned}\n",
    "\\sigma_{B}(K, f)=& \\frac{\\alpha\\left\\{1+\\left[\\frac{(1-\\beta)^{2}}{24} \\frac{\\alpha^{2}}{(f K)^{1-\\beta}}+\\frac{1}{4} \\frac{\\rho \\beta v a}{(F K)^{(1-\\beta) / 2}}+\\frac{2-3 \\rho^{2}}{24} v^{2}\\right] T\\right\\}}{(f K)^{(1-\\beta) / 2}\\left[1+\\frac{(1-\\beta)^{2}}{24} \\ln ^{2} \\frac{f}{K}+\\frac{(1-\\beta)^{4}}{1920} \\ln ^{4} \\frac{f}{K}\\right]}  \\frac{z}{\\chi(z)}\\\\\n",
    "& \\\\\n",
    "z=& \\frac{v}{\\alpha}(f K)^{(1-\\beta) / 2} \\ln \\frac{f}{K} \\\\\n",
    "\\chi(z)=& \\ln \\left[\\frac{\\sqrt{1-2 \\rho z+z^{2}}+z-\\rho}{1-\\rho}\\right] .\n",
    "\\end{aligned}\n",
    "$$"
   ]
  },
  {
   "cell_type": "code",
   "execution_count": 12,
   "metadata": {},
   "outputs": [],
   "source": [
    "def sigma_SABR(K,\n",
    "               p,\n",
    "               S=0.06, \n",
    "               beta = 0.5,\n",
    "               maturity=0.5):\n",
    "    \n",
    "    alpha, nu, rho = p\n",
    "    \n",
    "    \n",
    "   \n",
    "    zeta = nu/alpha * (S * K)**((1.0 - beta)/2) * torch.log(S/K)\n",
    "    \n",
    "    numen = (1.0  + (((1-beta)**2 / 24)  *  alpha**2 / ((S * K)**(1 - beta)) \n",
    "                          + (rho * beta * nu * alpha)/(4.0 * (S*K)**((1-beta)/2))\n",
    "                          + ((2 - 3 * rho**2)/24 * nu**2)\n",
    "                          ) * maturity\n",
    "                   )\n",
    "    \n",
    "    \n",
    "    denum =  ((S * K) ** ((1 - beta)/2) * \\\n",
    "                            (1.0 + (1-beta)**2 / 24 * torch.log(S/K)**2  \n",
    "                             + (1-beta)**4 / 1920 * torch.log(S/K)**4\n",
    "                            )\n",
    "            )\n",
    "            \n",
    "    \n",
    "    anw = alpha *  numen / denum *  zeta / torch.log((torch.sqrt(1.0 - 2*rho*zeta + zeta**2\n",
    "                                                                ) + zeta - rho)/(1.0 - rho)\n",
    "                                                    ) \n",
    "    \n",
    "    return anw"
   ]
  },
  {
   "cell_type": "code",
   "execution_count": 13,
   "metadata": {},
   "outputs": [],
   "source": [
    "K = torch.linspace(0.04, 0.11, 25)\n",
    "S = 0.06\n",
    "T = 0.5\n",
    "alpha = 0.037561\n",
    "beta = 0.5\n",
    "rho = 0.100044\n",
    "nu = 0.573296\n"
   ]
  },
  {
   "cell_type": "code",
   "execution_count": 14,
   "metadata": {},
   "outputs": [],
   "source": [
    "init_p = torch.tensor([0.1]*3)\n",
    "true_p = torch.tensor([ alpha, nu, rho])\n",
    "y_mkt = sigma_SABR(K, true_p)"
   ]
  },
  {
   "cell_type": "code",
   "execution_count": 15,
   "metadata": {},
   "outputs": [],
   "source": [
    "modified_sabr = data_points(K)(sigma_SABR)"
   ]
  },
  {
   "cell_type": "code",
   "execution_count": 18,
   "metadata": {},
   "outputs": [],
   "source": [
    "params = { 'x' : K,\n",
    "           'init_p': init_p ,\n",
    "           'y' :  modified_sabr([ alpha, nu, rho]),\n",
    "           'func' : modified_sabr,  # model to be fitted\n",
    "           'sigma' : 1.0,    # std of datapoint\n",
    "           'lambda_lm' : 0.01, # starting lambda\n",
    "           'eps1' : 1e-3,    \n",
    "           'eps2' : 1e-3,\n",
    "           'eps3' : 1e-3,\n",
    "           'eps4' : 1e-3,\n",
    "           'lm_up' : 10,     # up coefficient\n",
    "           'lm_down' : 9     # down coefficient\n",
    "           }"
   ]
  },
  {
   "cell_type": "code",
   "execution_count": 19,
   "metadata": {},
   "outputs": [],
   "source": [
    "lm = LevenbergMarquad(params)"
   ]
  },
  {
   "cell_type": "code",
   "execution_count": 20,
   "metadata": {},
   "outputs": [],
   "source": [
    "for i in range(1000):\n",
    "    lm.step()"
   ]
  },
  {
   "cell_type": "code",
   "execution_count": 21,
   "metadata": {},
   "outputs": [
    {
     "data": {
      "image/png": "[encoded data removed]",
      "text/plain": [
       "<Figure size 432x288 with 1 Axes>"
      ]
     },
     "metadata": {
      "needs_background": "light"
     },
     "output_type": "display_data"
    }
   ],
   "source": [
    "plt.scatter(K, modified_sabr([ alpha, nu, rho]))\n",
    "plt.plot(K,  modified_sabr(lm.p).detach().numpy(), color='red')\n",
    "plt.show()"
   ]
  },
  {
   "cell_type": "code",
   "execution_count": 22,
   "metadata": {},
   "outputs": [
    {
     "name": "stdout",
     "output_type": "stream",
     "text": [
      "Converged to tensor([0.0376, 0.5733, 0.1000])\n",
      "True p tensor([0.0376, 0.5733, 0.1000])\n"
     ]
    }
   ],
   "source": [
    "print(f\"Converged to {lm.p.detach()}\", f\"True p {true_p}\", sep=\"\\n\")"
   ]
  }
 ],
 "metadata": {
  "kernelspec": {
   "display_name": "Python 3",
   "language": "python",
   "name": "python3"
  },
  "language_info": {
   "codemirror_mode": {
    "name": "ipython",
    "version": 3
   },
   "file_extension": ".py",
   "mimetype": "text/x-python",
   "name": "python",
   "nbconvert_exporter": "python",
   "pygments_lexer": "ipython3",
   "version": "3.7.3"
  }
 },
 "nbformat": 4,
 "nbformat_minor": 2
}
